{
  "cells": [
    {
      "cell_type": "markdown",
      "metadata": {
        "id": "-wH7FVBqgSbc"
      },
      "source": [
        "# Text Classification"
      ]
    },
    {
      "cell_type": "markdown",
      "metadata": {
        "id": "Fdhp8H-8WPkk"
      },
      "source": [
        "Text classification is the process of categorizing the text into a group of words. By using NLP, text classification can automatically analyze text and then assign a set of predefined tags or categories based on its context. NLP is used for sentiment analysis, topic detection, and language detection.\n",
        "\n",
        "\n",
        "# Sentiment Analysis\n",
        "An especific case of text classification is **sentiment analysis**. This focuses on the polarity of a text (positive, negative, neutral) but it also goes beyond polarity to detect specific feelings and emotions."
      ]
    },
    {
      "cell_type": "markdown",
      "metadata": {
        "id": "DEgomXBygrrb"
      },
      "source": [
        "# Preparing the Dataset \n",
        "\n",
        "We are going to use a [hate-speech spanish dataset](https://github.com/aymeam/Datasets-for-Hate-Speech-Detection). The main goal is to detect this kind of comments. "
      ]
    },
    {
      "cell_type": "code",
      "execution_count": null,
      "metadata": {
        "id": "mjwDC9s9gqjd"
      },
      "outputs": [],
      "source": [
        "with open('/content/labeled_corpus_6K.txt') as file:\n",
        "  lines = file.readlines()  "
      ]
    },
    {
      "cell_type": "code",
      "execution_count": null,
      "metadata": {
        "id": "iPS1K7FezVhV"
      },
      "outputs": [],
      "source": [
        "lines = [line.strip('\\n')[line.strip('\\n').find(';||;'):].strip(';||;') for line in lines]\n",
        "lines"
      ]
    },
    {
      "cell_type": "code",
      "execution_count": null,
      "metadata": {
        "id": "-F2oNYoT6-7m"
      },
      "outputs": [],
      "source": [
        "txt_corpus= [line[:line.find(';||;'):] for line in lines]\n",
        "label =[line[line.find(';||;')+4:] for line in lines]"
      ]
    },
    {
      "cell_type": "code",
      "execution_count": null,
      "metadata": {
        "colab": {
          "base_uri": "https://localhost:8080/"
        },
        "id": "zB1Ka69o7Y_u",
        "outputId": "741a345e-ee27-4874-957e-05327d06d7cc"
      },
      "outputs": [
        {
          "output_type": "stream",
          "name": "stdout",
          "text": [
            "Dataset information: La gente que se pretende burlar del feminismo diciendo \"machista opresor\" es porque no ha cogido un libro en su puta vida y no sabe qué es.\n",
            "Sentiment detected: 0\n"
          ]
        }
      ],
      "source": [
        "print(f'Dataset information: {txt_corpus[10]}.\\nSentiment detected: {label[10]}')"
      ]
    },
    {
      "cell_type": "code",
      "execution_count": null,
      "metadata": {
        "id": "mbp69Asf1EJE"
      },
      "outputs": [],
      "source": [
        "from pysentimiento.preprocessing import preprocess_tweet\n",
        "\n",
        "# Replaces user handles and URLs by special tokens\n",
        "txt_corpus = [preprocess_tweet(i, shorten=2) for i in txt_corpus] "
      ]
    },
    {
      "cell_type": "code",
      "execution_count": null,
      "metadata": {
        "colab": {
          "base_uri": "https://localhost:8080/",
          "height": 281
        },
        "id": "RgRSN3Ve8TnF",
        "outputId": "ba2555d3-df1e-4631-a90d-4e2bfb4f687f"
      },
      "outputs": [
        {
          "output_type": "display_data",
          "data": {
            "image/png": "[encoded data removed]",
            "text/plain": [
              "<Figure size 432x288 with 1 Axes>"
            ]
          },
          "metadata": {
            "needs_background": "light"
          }
        }
      ],
      "source": [
        "import matplotlib.pyplot as plt\n",
        "\n",
        "plt.title('Labels')\n",
        "plt.hist(label)\n",
        "plt.grid(True)\n",
        "plt.show()\n"
      ]
    },
    {
      "cell_type": "code",
      "execution_count": null,
      "metadata": {
        "id": "tb7eZS6KgnNC"
      },
      "outputs": [],
      "source": [
        "from sklearn.model_selection import train_test_split\n",
        "import numpy as np\n",
        "\n",
        "X = np.asarray(txt_corpus)\n",
        "y = np.asarray(label)"
      ]
    },
    {
      "cell_type": "code",
      "execution_count": null,
      "metadata": {
        "id": "M-sBmlcDiNaR"
      },
      "outputs": [],
      "source": [
        "X_balanced_1 = [ X[i] for i in np.where(y=='1')[0]]\n",
        "y_balanced_1 = [ 1 for i in np.where(y=='1')[0]]"
      ]
    },
    {
      "cell_type": "code",
      "execution_count": null,
      "metadata": {
        "id": "Sod3XScCkGSk"
      },
      "outputs": [],
      "source": [
        "X_balanced_0 = [ X[i] for i in np.where(y=='0')[0]][:len(y_balanced_1)]\n",
        "y_balanced_0 = [ 0 for i in np.where(y=='0')[0]][:len(y_balanced_1)]"
      ]
    },
    {
      "cell_type": "code",
      "execution_count": null,
      "metadata": {
        "id": "vVQiybmWk8Hw"
      },
      "outputs": [],
      "source": [
        "X = np.concatenate((X_balanced_1, X_balanced_0))\n",
        "y = np.concatenate((y_balanced_1, y_balanced_0))"
      ]
    },
    {
      "cell_type": "code",
      "execution_count": null,
      "metadata": {
        "id": "oRfcHlop9oHo"
      },
      "outputs": [],
      "source": [
        "X_train, X_val, y_train, y_val = train_test_split(X, y, test_size=0.3, random_state=2020)"
      ]
    },
    {
      "cell_type": "code",
      "execution_count": null,
      "metadata": {
        "colab": {
          "base_uri": "https://localhost:8080/"
        },
        "id": "8QFbt1009gsG",
        "outputId": "6b085c29-288f-495f-af2e-bc4fc99b9283"
      },
      "outputs": [
        {
          "output_type": "stream",
          "name": "stdout",
          "text": [
            "(2193,) (941,)\n"
          ]
        }
      ],
      "source": [
        "print(X_train.shape, X_val.shape)"
      ]
    },
    {
      "cell_type": "markdown",
      "metadata": {
        "id": "nE_WfKeryeTu"
      },
      "source": [
        "Cleaning the dataset with the data_cleaning's methods"
      ]
    },
    {
      "cell_type": "code",
      "execution_count": null,
      "metadata": {
        "id": "Vgo5tSQtQ9Ts"
      },
      "outputs": [],
      "source": [
        "!pip3 install -r requirements.txt\n",
        "!python -m spacy download en_core_web_sm\n",
        "import data_cleaning.spanish as sp"
      ]
    },
    {
      "cell_type": "code",
      "execution_count": null,
      "metadata": {
        "id": "ejPZsm47VZqu"
      },
      "outputs": [],
      "source": [
        "from sklearn.feature_extraction.text import TfidfVectorizer\n",
        "\n",
        "cleaned_doc_train,entities = sp.corpus(dataset=X_train,twitter_mails_digit=True)\n",
        "X_train_preprocessed = [\" \".join(words_list) for words_list in cleaned_doc_train]\n",
        "\n",
        "cleaned_doc_val,entities = sp.corpus(dataset=X_val,twitter_mails_digit=True)\n",
        "X_val_preprocessed  = [\" \".join(words_list) for words_list in cleaned_doc_val]"
      ]
    },
    {
      "cell_type": "code",
      "execution_count": null,
      "metadata": {
        "id": "4r8IUbm0mKNO"
      },
      "outputs": [],
      "source": [
        "# Calculate TF-IDF\n",
        "tf_idf = TfidfVectorizer(binary=True,\n",
        "                         smooth_idf=False)\n",
        "X_train_tfidf = tf_idf.fit_transform(X_train_preprocessed)\n",
        "X_val_tfidf = tf_idf.transform(X_val_preprocessed)"
      ]
    },
    {
      "cell_type": "markdown",
      "metadata": {
        "id": "28CYJOrbXkL7"
      },
      "source": [
        "# Machine Learning models for NLP\n",
        "Machine learning for NLP and text analytics involves a set of statistical techniques for identifying parts of speech, entities, sentiment, and other aspects of text. The techniques can be expressed as a model that is then applied to other text, also known as supervised machine learning. It also could be a set of algorithms that work across large sets of data to extract meaning, which is known as unsupervised machine learning. "
      ]
    },
    {
      "cell_type": "code",
      "execution_count": null,
      "metadata": {
        "id": "ELh94sUjgP_M"
      },
      "outputs": [],
      "source": [
        "model_name= []; vectors =[]; f1 = []; accuracy = []"
      ]
    },
    {
      "cell_type": "markdown",
      "metadata": {
        "id": "51cVc5bRltvR"
      },
      "source": [
        "## Support-vector machine (SVM)\n",
        "\n",
        "FoR performing linear classification, SVMs can efficiently perform a non-linear classification using what is called the kernel trick, implicitly mapping their inputs into high-dimensional feature spaces."
      ]
    },
    {
      "cell_type": "code",
      "execution_count": null,
      "metadata": {
        "colab": {
          "base_uri": "https://localhost:8080/"
        },
        "id": "bdrjzVaSoibG",
        "outputId": "070e2add-b76a-4c79-c9c1-92a623adb06c"
      },
      "outputs": [
        {
          "output_type": "stream",
          "name": "stdout",
          "text": [
            "0.7172683870565107\n",
            "{'estimator__C': 1, 'estimator__degree': 1, 'estimator__kernel': 'poly'}\n"
          ]
        }
      ],
      "source": [
        "from sklearn.multiclass import OneVsRestClassifier\n",
        "from sklearn.svm import SVC\n",
        "from sklearn.model_selection import GridSearchCV\n",
        "\n",
        "parameters = {\n",
        "    \"estimator__C\": [1,2,4,8],\n",
        "    \"estimator__kernel\": [\"poly\"],\n",
        "    \"estimator__degree\":[1, 2],\n",
        "}\n",
        "\n",
        "cv = GridSearchCV(OneVsRestClassifier(SVC()), param_grid=parameters, scoring = 'f1_micro')\n",
        "\n",
        "cv.fit(X_train_tfidf, y_train)\n",
        "\n",
        "print(cv.best_score_)\n",
        "print(cv.best_params_)"
      ]
    },
    {
      "cell_type": "code",
      "execution_count": null,
      "metadata": {
        "colab": {
          "base_uri": "https://localhost:8080/"
        },
        "id": "ftHS4uFkqyE4",
        "outputId": "3d34d228-bb1e-430c-c5cc-ec4a04198519"
      },
      "outputs": [
        {
          "output_type": "execute_result",
          "data": {
            "text/plain": [
              "array([0.72406181, 0.74385246])"
            ]
          },
          "metadata": {},
          "execution_count": 96
        }
      ],
      "source": [
        "import seaborn as sns\n",
        "from sklearn.metrics import f1_score, accuracy_score, classification_report,confusion_matrix\n",
        "\n",
        "predictions = cv.best_estimator_.predict(X_val_tfidf)\n",
        "\n",
        "f1_score(y_val, predictions, labels=[0,1],average = None) "
      ]
    },
    {
      "cell_type": "code",
      "execution_count": null,
      "metadata": {
        "colab": {
          "base_uri": "https://localhost:8080/"
        },
        "id": "KN5QIGNCu5YC",
        "outputId": "acb54eee-6961-4e02-b9f3-eb66c87beb00"
      },
      "outputs": [
        {
          "output_type": "stream",
          "name": "stdout",
          "text": [
            "Test Set Accuracy : 73.43251859723698 %\n",
            "\n",
            "\n",
            "Classification Report : \n",
            "\n",
            "              precision    recall  f1-score   support\n",
            "\n",
            "           0       0.73      0.72      0.72       456\n",
            "           1       0.74      0.75      0.74       485\n",
            "\n",
            "    accuracy                           0.73       941\n",
            "   macro avg       0.73      0.73      0.73       941\n",
            "weighted avg       0.73      0.73      0.73       941\n",
            "\n"
          ]
        }
      ],
      "source": [
        "print(f\"Test Set Accuracy : {accuracy_score(y_val, predictions) * 100} %\\n\\n\")\n",
        "print(f\"Classification Report : \\n\\n{classification_report(y_val, predictions)}\")"
      ]
    },
    {
      "cell_type": "code",
      "execution_count": null,
      "metadata": {
        "colab": {
          "base_uri": "https://localhost:8080/"
        },
        "id": "FldrBPP-Vmf-",
        "outputId": "46ccd05e-915f-4273-9b92-582022446816"
      },
      "outputs": [
        {
          "output_type": "display_data",
          "data": {
            "image/png": "[encoded data removed]",
            "text/plain": [
              "<Figure size 1296x576 with 2 Axes>"
            ]
          },
          "metadata": {
            "needs_background": "light"
          }
        }
      ],
      "source": [
        "import seaborn as sns\n",
        "plt.figure(figsize = (18,8))\n",
        "sns.heatmap(confusion_matrix(y_val, predictions), annot = True, xticklabels = [0,1], yticklabels = [0,1], cmap = 'summer')\n",
        "plt.title('Confusion Matrix with labels\\n\\n', size=24, pad=20)\n",
        "plt.xlabel('Predicted Labels')\n",
        "plt.ylabel('True Labels')\n",
        "plt.show()"
      ]
    },
    {
      "cell_type": "code",
      "execution_count": null,
      "metadata": {
        "id": "ymx_A6xnrXXO"
      },
      "outputs": [],
      "source": [
        "for i in range(5):\n",
        "  print('Prediction:'+ str(predictions[i])+ ', True label:'  + str(y_val[i]))\n"
      ]
    },
    {
      "cell_type": "code",
      "execution_count": null,
      "metadata": {
        "id": "q8Qf6V6OhAcb"
      },
      "outputs": [],
      "source": [
        "model_name.append('Support Vector Machine')\n",
        "vectors.append('TF-ID')\n",
        "f1.append(f1_score(y_val, predictions) * 100)\n",
        "accuracy.append(accuracy_score(y_val, predictions) * 100)"
      ]
    },
    {
      "cell_type": "markdown",
      "metadata": {
        "id": "N4i2DeF7xULv"
      },
      "source": [
        "## Random Forest Classifier (RFC)\n",
        "Random Forest is a classifier that contains a number of decision trees on various subsets of the given dataset and takes the average to improve the predictive accuracy of that dataset."
      ]
    },
    {
      "cell_type": "code",
      "execution_count": null,
      "metadata": {
        "id": "7ctUTF-xxjCy"
      },
      "outputs": [],
      "source": [
        "from sklearn.ensemble import RandomForestClassifier"
      ]
    },
    {
      "cell_type": "code",
      "execution_count": null,
      "metadata": {
        "colab": {
          "base_uri": "https://localhost:8080/"
        },
        "id": "V5vTAFcPxaJI",
        "outputId": "bdb2754f-9b8c-46b1-d472-6e447a151a64"
      },
      "outputs": [
        {
          "output_type": "execute_result",
          "data": {
            "text/plain": [
              "GridSearchCV(cv=5, estimator=RandomForestClassifier(random_state=42),\n",
              "             param_grid={'max_depth': [7, 8, 9, 10, 11],\n",
              "                         'n_estimators': [500, 600, 700, 800]})"
            ]
          },
          "metadata": {},
          "execution_count": 102
        }
      ],
      "source": [
        "param_grid = { \n",
        "    'n_estimators': [ 500, 600,700,800],\n",
        "    'max_depth' : [7,8, 9, 10, 11]\n",
        " #   'criterion' :['gini', 'entropy']\n",
        "}\n",
        "rfc=RandomForestClassifier(random_state=42)\n",
        "\n",
        "CV_rfc = GridSearchCV(estimator=rfc, param_grid=param_grid, cv= 5)\n",
        "CV_rfc.fit(X_train_tfidf, y_train)\n",
        "\n",
        "\n"
      ]
    },
    {
      "cell_type": "code",
      "execution_count": null,
      "metadata": {
        "colab": {
          "base_uri": "https://localhost:8080/"
        },
        "id": "lcWOEIuI0if4",
        "outputId": "747cd4a7-8e08-4622-f9a5-9ab95f84bfba"
      },
      "outputs": [
        {
          "output_type": "stream",
          "name": "stdout",
          "text": [
            "0.6912784347988892\n",
            "{'max_depth': 11, 'n_estimators': 700}\n"
          ]
        }
      ],
      "source": [
        "print(CV_rfc.best_score_)\n",
        "print(CV_rfc.best_params_)"
      ]
    },
    {
      "cell_type": "code",
      "execution_count": null,
      "metadata": {
        "colab": {
          "base_uri": "https://localhost:8080/"
        },
        "id": "2CIAozdM2d9Q",
        "outputId": "b5151fbf-57f3-4a5c-fd5b-6abd017b74ae"
      },
      "outputs": [
        {
          "output_type": "execute_result",
          "data": {
            "text/plain": [
              "array([0.70386266, 0.70947368])"
            ]
          },
          "metadata": {},
          "execution_count": 104
        }
      ],
      "source": [
        "import sklearn.metrics\n",
        "predictions = CV_rfc.best_estimator_.predict(X_val_tfidf)\n",
        "\n",
        "f1_score(y_val, predictions, average = None) "
      ]
    },
    {
      "cell_type": "code",
      "execution_count": null,
      "metadata": {
        "colab": {
          "base_uri": "https://localhost:8080/"
        },
        "id": "P2aaDRv63JJ6",
        "outputId": "227a159c-2020-433e-8f56-a2bcf0715ffe"
      },
      "outputs": [
        {
          "output_type": "stream",
          "name": "stdout",
          "text": [
            "Test Set Accuracy : 70.66950053134963 %\n",
            "\n",
            "\n",
            "Classification Report : \n",
            "\n",
            "              precision    recall  f1-score   support\n",
            "\n",
            "           0       0.69      0.72      0.70       456\n",
            "           1       0.72      0.69      0.71       485\n",
            "\n",
            "    accuracy                           0.71       941\n",
            "   macro avg       0.71      0.71      0.71       941\n",
            "weighted avg       0.71      0.71      0.71       941\n",
            "\n"
          ]
        }
      ],
      "source": [
        "from sklearn.metrics import accuracy_score, classification_report\n",
        "print(f\"Test Set Accuracy : {accuracy_score(y_val, predictions) * 100} %\\n\\n\")\n",
        "print(f\"Classification Report : \\n\\n{classification_report(y_val, predictions)}\")"
      ]
    },
    {
      "cell_type": "code",
      "execution_count": null,
      "metadata": {
        "colab": {
          "base_uri": "https://localhost:8080/"
        },
        "id": "FrRI_AlYjdK9",
        "outputId": "2aec1b74-152c-4cb5-a00f-f2cb323c68f6"
      },
      "outputs": [
        {
          "output_type": "display_data",
          "data": {
            "image/png": "[encoded data removed]",
            "text/plain": [
              "<Figure size 1296x576 with 2 Axes>"
            ]
          },
          "metadata": {
            "needs_background": "light"
          }
        }
      ],
      "source": [
        "import seaborn as sns\n",
        "plt.figure(figsize = (18,8))\n",
        "sns.heatmap(confusion_matrix(y_val, predictions), annot = True, xticklabels = [0,1], yticklabels = [0,1], cmap = 'summer')\n",
        "plt.title('Confusion Matrix with labels\\n\\n', size=24, pad=20)\n",
        "plt.xlabel('Predicted Labels')\n",
        "plt.ylabel('True Labels')\n",
        "plt.show()"
      ]
    },
    {
      "cell_type": "code",
      "execution_count": null,
      "metadata": {
        "id": "H7TOQ745huBP"
      },
      "outputs": [],
      "source": [
        "model_name.append('Random Forest Classifier')\n",
        "vectors.append('TF-ID')\n",
        "f1.append(f1_score(y_val, predictions) * 100)\n",
        "accuracy.append(accuracy_score(y_val, predictions) * 100)"
      ]
    },
    {
      "cell_type": "markdown",
      "metadata": {
        "id": "fmTPH8AFKyIy"
      },
      "source": [
        "https://www.kaggle.com/nkitgupta/evaluation-metrics-for-multi-class-classification/notebook"
      ]
    },
    {
      "cell_type": "markdown",
      "metadata": {
        "id": "BlQsU33QmoWW"
      },
      "source": [
        "## Logistic Regression (LR)\n",
        "Logistic Regression is a predictive analysis algorithm based on the concept of probability."
      ]
    },
    {
      "cell_type": "code",
      "execution_count": null,
      "metadata": {
        "colab": {
          "base_uri": "https://localhost:8080/"
        },
        "id": "eyQBE-KompAT",
        "outputId": "15607c11-e235-4107-ecc4-fb1133d47828"
      },
      "outputs": [
        {
          "output_type": "stream",
          "name": "stderr",
          "text": [
            "/usr/local/lib/python3.7/dist-packages/sklearn/model_selection/_validation.py:372: FitFailedWarning: \n",
            "35 fits failed out of a total of 70.\n",
            "The score on these train-test partitions for these parameters will be set to nan.\n",
            "If these failures are not expected, you can try to debug them by setting error_score='raise'.\n",
            "\n",
            "Below are more details about the failures:\n",
            "--------------------------------------------------------------------------------\n",
            "35 fits failed with the following error:\n",
            "Traceback (most recent call last):\n",
            "  File \"/usr/local/lib/python3.7/dist-packages/sklearn/model_selection/_validation.py\", line 680, in _fit_and_score\n",
            "    estimator.fit(X_train, y_train, **fit_params)\n",
            "  File \"/usr/local/lib/python3.7/dist-packages/sklearn/linear_model/_logistic.py\", line 1461, in fit\n",
            "    solver = _check_solver(self.solver, self.penalty, self.dual)\n",
            "  File \"/usr/local/lib/python3.7/dist-packages/sklearn/linear_model/_logistic.py\", line 449, in _check_solver\n",
            "    % (solver, penalty)\n",
            "ValueError: Solver lbfgs supports only 'l2' or 'none' penalties, got l1 penalty.\n",
            "\n",
            "  warnings.warn(some_fits_failed_message, FitFailedWarning)\n",
            "/usr/local/lib/python3.7/dist-packages/sklearn/model_selection/_search.py:972: UserWarning: One or more of the test scores are non-finite: [       nan 0.50661216        nan 0.57364496        nan 0.68809353\n",
            "        nan 0.72046889        nan 0.7127209         nan 0.69037767\n",
            "        nan 0.67213988]\n",
            "  category=UserWarning,\n"
          ]
        },
        {
          "output_type": "execute_result",
          "data": {
            "text/plain": [
              "GridSearchCV(cv=5, estimator=LogisticRegression(max_iter=500),\n",
              "             param_grid={'C': array([1.e-03, 1.e-02, 1.e-01, 1.e+00, 1.e+01, 1.e+02, 1.e+03]),\n",
              "                         'penalty': ['l1', 'l2']})"
            ]
          },
          "metadata": {},
          "execution_count": 108
        }
      ],
      "source": [
        "from sklearn.linear_model import LogisticRegression\n",
        "\n",
        "param_grid={\"C\":np.logspace(-3,3,7), \"penalty\":[\"l1\",\"l2\"]}# l1 lasso l2 ridge\n",
        "logreg = LogisticRegression(max_iter=500)\n",
        "\n",
        "CV_lr = GridSearchCV(estimator=logreg, param_grid=param_grid, cv= 5)\n",
        "CV_lr.fit(X_train_tfidf, y_train)\n"
      ]
    },
    {
      "cell_type": "code",
      "execution_count": null,
      "metadata": {
        "colab": {
          "base_uri": "https://localhost:8080/"
        },
        "id": "T7rZ9zjfnNPo",
        "outputId": "9d808dab-9e15-415b-ad8e-d7b855f6541c"
      },
      "outputs": [
        {
          "output_type": "stream",
          "name": "stdout",
          "text": [
            "0.7204688946443245\n",
            "{'C': 1.0, 'penalty': 'l2'}\n"
          ]
        }
      ],
      "source": [
        "print(CV_lr.best_score_)\n",
        "print(CV_lr.best_params_)"
      ]
    },
    {
      "cell_type": "code",
      "execution_count": null,
      "metadata": {
        "colab": {
          "base_uri": "https://localhost:8080/"
        },
        "id": "SDqjIdzIoJQL",
        "outputId": "dacb6bd2-8fe2-4fed-c8ec-54027d565879"
      },
      "outputs": [
        {
          "output_type": "execute_result",
          "data": {
            "text/plain": [
              "array([0.73420479, 0.74688797])"
            ]
          },
          "metadata": {},
          "execution_count": 110
        }
      ],
      "source": [
        "import sklearn.metrics\n",
        "predictions = CV_lr.best_estimator_.predict(X_val_tfidf)\n",
        "\n",
        "f1_score(y_val, predictions, average = None) "
      ]
    },
    {
      "cell_type": "code",
      "execution_count": null,
      "metadata": {
        "colab": {
          "base_uri": "https://localhost:8080/"
        },
        "id": "x-eyHMpwoJu7",
        "outputId": "6d6a21ff-3132-44e2-fb6b-3dc8664087c3"
      },
      "outputs": [
        {
          "output_type": "stream",
          "name": "stdout",
          "text": [
            "Test Set Accuracy : 74.0701381509033 %\n",
            "\n",
            "\n",
            "Classification Report : \n",
            "\n",
            "              precision    recall  f1-score   support\n",
            "\n",
            "           0       0.73      0.74      0.73       456\n",
            "           1       0.75      0.74      0.75       485\n",
            "\n",
            "    accuracy                           0.74       941\n",
            "   macro avg       0.74      0.74      0.74       941\n",
            "weighted avg       0.74      0.74      0.74       941\n",
            "\n"
          ]
        }
      ],
      "source": [
        "from sklearn.metrics import accuracy_score, classification_report\n",
        "print(f\"Test Set Accuracy : {accuracy_score(y_val, predictions) * 100} %\\n\\n\")\n",
        "print(f\"Classification Report : \\n\\n{classification_report(y_val, predictions)}\")"
      ]
    },
    {
      "cell_type": "code",
      "execution_count": null,
      "metadata": {
        "colab": {
          "base_uri": "https://localhost:8080/"
        },
        "id": "YnST4WmnoM1z",
        "outputId": "95a33cd9-2334-4429-c948-c0ed61734dc8"
      },
      "outputs": [
        {
          "output_type": "display_data",
          "data": {
            "image/png": "[encoded data removed]",
            "text/plain": [
              "<Figure size 1296x576 with 2 Axes>"
            ]
          },
          "metadata": {
            "needs_background": "light"
          }
        }
      ],
      "source": [
        "import seaborn as sns\n",
        "plt.figure(figsize = (18,8))\n",
        "sns.heatmap(confusion_matrix(y_val, predictions), annot = True, xticklabels = [0,1], yticklabels = [0,1], cmap = 'summer')\n",
        "plt.title('Confusion Matrix with labels\\n\\n', size=24, pad=20)\n",
        "plt.xlabel('Predicted Labels')\n",
        "plt.ylabel('True Labels')\n",
        "plt.show()"
      ]
    },
    {
      "cell_type": "code",
      "execution_count": null,
      "metadata": {
        "id": "5SrPm601iVJL"
      },
      "outputs": [],
      "source": [
        "model_name.append('Logistic Regression')\n",
        "vectors.append('TF-ID')\n",
        "f1.append(f1_score(y_val, predictions) * 100)\n",
        "accuracy.append(accuracy_score(y_val, predictions) * 100)"
      ]
    },
    {
      "cell_type": "markdown",
      "metadata": {
        "id": "LTRFm_3NmoJA"
      },
      "source": [
        "ROC score method"
      ]
    },
    {
      "cell_type": "code",
      "execution_count": null,
      "metadata": {
        "id": "IIAK3Zt5KnLR"
      },
      "outputs": [],
      "source": [
        "from sklearn.metrics import roc_auc_score\n",
        "\n",
        "def roc_auc_score_multiclass(actual_class, pred_class, average = \"macro\"):\n",
        "    \n",
        "    #creating a set of all the unique classes using the actual class list\n",
        "    unique_class = set(actual_class)\n",
        "    roc_auc_dict = {}\n",
        "    for per_class in unique_class:\n",
        "        \n",
        "        #creating a list of all the classes except the current class \n",
        "        other_class = [x for x in unique_class if x != per_class]\n",
        "\n",
        "        #marking the current class as 1 and all other classes as 0\n",
        "        new_actual_class = [0 if x in other_class else 1 for x in actual_class]\n",
        "        new_pred_class = [0 if x in other_class else 1 for x in pred_class]\n",
        "\n",
        "        #using the sklearn metrics method to calculate the roc_auc_score\n",
        "        roc_auc = roc_auc_score(new_actual_class, new_pred_class, average = average)\n",
        "        roc_auc_dict[per_class] = roc_auc\n",
        "\n",
        "    return roc_auc_dict"
      ]
    },
    {
      "cell_type": "code",
      "execution_count": null,
      "metadata": {
        "colab": {
          "base_uri": "https://localhost:8080/"
        },
        "id": "jDTqAOnAKtBA",
        "outputId": "9d4023f8-89c3-4e2a-fdaf-4e0c3941963d"
      },
      "outputs": [
        {
          "output_type": "execute_result",
          "data": {
            "text/plain": [
              "{0: 0.7406515644782059, 1: 0.7406515644782058}"
            ]
          },
          "metadata": {},
          "execution_count": 115
        }
      ],
      "source": [
        "roc_auc_dict = roc_auc_score_multiclass(y_val, predictions)\n",
        "roc_auc_dict"
      ]
    },
    {
      "cell_type": "markdown",
      "metadata": {
        "id": "mpSqElBo6SGj"
      },
      "source": [
        "## Naive Bayes\n",
        "The multinomial Naive Bayes classifier is suitable for classification with discrete features (e.g., word counts for text classification). The multinomial distribution normally requires integer feature counts. "
      ]
    },
    {
      "cell_type": "code",
      "execution_count": null,
      "metadata": {
        "colab": {
          "base_uri": "https://localhost:8080/"
        },
        "id": "e4d-GFOC3S8H",
        "outputId": "47872bd6-08d5-4833-809d-dc7ca781ed8a"
      },
      "outputs": [
        {
          "output_type": "stream",
          "name": "stdout",
          "text": [
            "Fitting 10 folds for each of 7 candidates, totalling 70 fits\n"
          ]
        },
        {
          "output_type": "execute_result",
          "data": {
            "text/plain": [
              "GridSearchCV(cv=10, estimator=MultinomialNB(), n_jobs=-1,\n",
              "             param_grid={'alpha': [0.01, 0.1, 0.5, 1.0, 10.0, 0.1, 0.01]},\n",
              "             verbose=1)"
            ]
          },
          "metadata": {},
          "execution_count": 116
        }
      ],
      "source": [
        "from sklearn.naive_bayes import MultinomialNB\n",
        "\n",
        "grid = {\n",
        "    'alpha': [0.01, 0.1, 0.5, 1.0, 10.0, 1e-1, 1e-2] \n",
        "}\n",
        "\n",
        "cv_nb = GridSearchCV(estimator=MultinomialNB(), param_grid=grid, verbose=1, cv=10, n_jobs=-1)\n",
        "cv_nb.fit(X_train_tfidf, y_train)\n"
      ]
    },
    {
      "cell_type": "code",
      "execution_count": null,
      "metadata": {
        "colab": {
          "base_uri": "https://localhost:8080/"
        },
        "id": "A3VIcWY37ICR",
        "outputId": "04e36ba9-9f6e-49cb-f072-7b18a89defab"
      },
      "outputs": [
        {
          "output_type": "stream",
          "name": "stdout",
          "text": [
            "0.7204462432544625\n",
            "{'alpha': 10.0}\n"
          ]
        }
      ],
      "source": [
        "print(cv_nb.best_score_)\n",
        "print(cv_nb.best_params_)"
      ]
    },
    {
      "cell_type": "code",
      "execution_count": null,
      "metadata": {
        "colab": {
          "base_uri": "https://localhost:8080/"
        },
        "id": "MOdMHQ0F7L9Q",
        "outputId": "71e1cf2c-1909-4a75-ae30-c76cd9133fff"
      },
      "outputs": [
        {
          "output_type": "execute_result",
          "data": {
            "text/plain": [
              "array([0.71955307, 0.74569402])"
            ]
          },
          "metadata": {},
          "execution_count": 118
        }
      ],
      "source": [
        "predictions_bayes = cv_nb.best_estimator_.predict(X_val_tfidf)\n",
        "\n",
        "f1_score(y_val, predictions_bayes, average = None) "
      ]
    },
    {
      "cell_type": "code",
      "execution_count": null,
      "metadata": {
        "colab": {
          "base_uri": "https://localhost:8080/"
        },
        "id": "I77Do8PM4s4H",
        "outputId": "2f20a823-48fa-4598-d3f3-613f7687cae0"
      },
      "outputs": [
        {
          "output_type": "stream",
          "name": "stdout",
          "text": [
            "Test Set Accuracy : 73.32624867162593 %\n",
            "\n",
            "\n",
            "Classification Report : \n",
            "\n",
            "              precision    recall  f1-score   support\n",
            "\n",
            "           0       0.73      0.71      0.72       456\n",
            "           1       0.73      0.76      0.75       485\n",
            "\n",
            "    accuracy                           0.73       941\n",
            "   macro avg       0.73      0.73      0.73       941\n",
            "weighted avg       0.73      0.73      0.73       941\n",
            "\n"
          ]
        }
      ],
      "source": [
        "print(f\"Test Set Accuracy : {accuracy_score(y_val, predictions_bayes) * 100} %\\n\\n\")\n",
        "print(f\"Classification Report : \\n\\n{classification_report(y_val, predictions_bayes)}\")"
      ]
    },
    {
      "cell_type": "code",
      "execution_count": null,
      "metadata": {
        "colab": {
          "base_uri": "https://localhost:8080/"
        },
        "id": "0T9XPsfuig8k",
        "outputId": "7438d097-6507-4bd8-ac05-dc230de53a84"
      },
      "outputs": [
        {
          "output_type": "display_data",
          "data": {
            "image/png": "[encoded data removed]",
            "text/plain": [
              "<Figure size 1296x576 with 2 Axes>"
            ]
          },
          "metadata": {
            "needs_background": "light"
          }
        }
      ],
      "source": [
        "import seaborn as sns\n",
        "plt.figure(figsize = (18,8))\n",
        "sns.heatmap(confusion_matrix(y_val, predictions_bayes), annot = True, xticklabels = [0,1], yticklabels = [0,1], cmap = 'summer')\n",
        "plt.title('Confusion Matrix with labels\\n\\n', size=24, pad=20)\n",
        "plt.xlabel('Predicted Labels')\n",
        "plt.ylabel('True Labels')\n",
        "plt.show()"
      ]
    },
    {
      "cell_type": "code",
      "execution_count": null,
      "metadata": {
        "id": "AcD_lH4Rig8m"
      },
      "outputs": [],
      "source": [
        "model_name.append('Naive Bayes')\n",
        "vectors.append('TF-ID')\n",
        "f1.append(f1_score(y_val, predictions_bayes) * 100)\n",
        "accuracy.append(accuracy_score(y_val, predictions_bayes) * 100)"
      ]
    },
    {
      "cell_type": "markdown",
      "metadata": {
        "id": "WwjHWWdiY-UE"
      },
      "source": [
        "# Deep Learning models for NLP"
      ]
    },
    {
      "cell_type": "markdown",
      "metadata": {
        "id": "zFusrnyWzKbr"
      },
      "source": [
        "## Transformer\n",
        "The Transformer in NLP is a novel architecture that aims to solve sequence-to-sequence tasks while handling long-range dependencies with ease. The Transformer was proposed in the paper [Attention Is All You Need](https://arxiv.org/abs/1706.03762).\n",
        "\n",
        "\n",
        "Source: https://chriskhanhtran.github.io/posts/bert-for-sentiment-analysis/"
      ]
    },
    {
      "cell_type": "code",
      "execution_count": null,
      "metadata": {
        "colab": {
          "base_uri": "https://localhost:8080/"
        },
        "id": "iwNl7YhPVY5o",
        "outputId": "b88de325-363b-438f-aeff-33bf056d28d7"
      },
      "outputs": [
        {
          "output_type": "stream",
          "name": "stdout",
          "text": [
            "--2022-02-22 14:30:53--  https://users.dcc.uchile.cl/~jperez/beto/cased_2M/pytorch_weights.tar.gz\n",
            "Resolving users.dcc.uchile.cl (users.dcc.uchile.cl)... 192.80.24.4, 200.9.99.211\n",
            "Connecting to users.dcc.uchile.cl (users.dcc.uchile.cl)|192.80.24.4|:443... connected.\n",
            "HTTP request sent, awaiting response... 200 OK\n",
            "Length: 409871727 (391M) [application/x-gzip]\n",
            "Saving to: ‘pytorch_weights.tar.gz’\n",
            "\n",
            "pytorch_weights.tar 100%[===================>] 390.88M  3.06MB/s    in 1m 46s  \n",
            "\n",
            "2022-02-22 14:32:40 (3.68 MB/s) - ‘pytorch_weights.tar.gz’ saved [409871727/409871727]\n",
            "\n",
            "--2022-02-22 14:32:40--  https://users.dcc.uchile.cl/~jperez/beto/cased_2M/vocab.txt\n",
            "Resolving users.dcc.uchile.cl (users.dcc.uchile.cl)... 192.80.24.4, 200.9.99.211\n",
            "Connecting to users.dcc.uchile.cl (users.dcc.uchile.cl)|192.80.24.4|:443... connected.\n",
            "HTTP request sent, awaiting response... 200 OK\n",
            "Length: 242120 (236K) [text/plain]\n",
            "Saving to: ‘vocab.txt’\n",
            "\n",
            "vocab.txt           100%[===================>] 236.45K   578KB/s    in 0.4s    \n",
            "\n",
            "2022-02-22 14:32:41 (578 KB/s) - ‘vocab.txt’ saved [242120/242120]\n",
            "\n",
            "--2022-02-22 14:32:41--  https://users.dcc.uchile.cl/~jperez/beto/cased_2M/config.json\n",
            "Resolving users.dcc.uchile.cl (users.dcc.uchile.cl)... 192.80.24.4, 200.9.99.211\n",
            "Connecting to users.dcc.uchile.cl (users.dcc.uchile.cl)|192.80.24.4|:443... connected.\n",
            "HTTP request sent, awaiting response... 200 OK\n",
            "Length: 313 [application/json]\n",
            "Saving to: ‘config.json’\n",
            "\n",
            "config.json         100%[===================>]     313  --.-KB/s    in 0s      \n",
            "\n",
            "2022-02-22 14:32:42 (64.8 MB/s) - ‘config.json’ saved [313/313]\n",
            "\n",
            "pytorch/\n",
            "pytorch/pytorch_model.bin\n"
          ]
        }
      ],
      "source": [
        "!wget https://users.dcc.uchile.cl/~jperez/beto/cased_2M/pytorch_weights.tar.gz \n",
        "!wget https://users.dcc.uchile.cl/~jperez/beto/cased_2M/vocab.txt \n",
        "!wget https://users.dcc.uchile.cl/~jperez/beto/cased_2M/config.json \n",
        "!tar -xzvf pytorch_weights.tar.gz\n",
        "!mv config.json pytorch/.\n",
        "!mv vocab.txt pytorch/."
      ]
    },
    {
      "cell_type": "code",
      "execution_count": null,
      "metadata": {
        "id": "v6s2PSwt62GE"
      },
      "outputs": [],
      "source": [
        "import torch\n",
        "from transformers import BertForMaskedLM, BertTokenizer, BertForNextSentencePrediction\n",
        "#BETO\n",
        "tokenizer = BertTokenizer.from_pretrained(\"pytorch/\", do_lower_case=False)"
      ]
    },
    {
      "cell_type": "code",
      "execution_count": null,
      "metadata": {
        "id": "iOsDIGLd7lXi"
      },
      "outputs": [],
      "source": [
        "def preprocessing_for_bert(data):\n",
        "    \"\"\"Perform required preprocessing steps for pretrained BERT.\n",
        "    @param    data (np.array): Array of texts to be processed.\n",
        "    @return   input_ids (torch.Tensor): Tensor of token ids to be fed to a model.\n",
        "    @return   attention_masks (torch.Tensor): Tensor of indices specifying which\n",
        "                  tokens should be attended to by the model.\n",
        "    \"\"\"\n",
        "    # Create empty lists to store outputs\n",
        "    input_ids = []\n",
        "    attention_masks = []\n",
        "\n",
        "    # For every sentence...\n",
        "    for sent in data:\n",
        "        # `encode_plus` will:\n",
        "        #    (1) Tokenize the sentence\n",
        "        #    (2) Add the `[CLS]` and `[SEP]` token to the start and end\n",
        "        #    (3) Truncate/Pad sentence to max length\n",
        "        #    (4) Map tokens to their IDs\n",
        "        #    (5) Create attention mask\n",
        "        #    (6) Return a dictionary of outputs\n",
        "        encoded_sent = tokenizer.encode_plus(\n",
        "            text=sent,  # Preprocess sentence\n",
        "            add_special_tokens=True,        # Add `[CLS]` and `[SEP]`\n",
        "            max_length=MAX_LEN,                  # Max length to truncate/pad\n",
        "            pad_to_max_length=True,         # Pad sentence to max length\n",
        "            #return_tensors='pt',           # Return PyTorch tensor\n",
        "            return_attention_mask=True      # Return attention mask\n",
        "            )\n",
        "        \n",
        "        # Add the outputs to the lists\n",
        "        input_ids.append(encoded_sent.get('input_ids'))\n",
        "        attention_masks.append(encoded_sent.get('attention_mask'))\n",
        "\n",
        "    # Convert lists to tensors\n",
        "    input_ids = torch.tensor(input_ids)\n",
        "    attention_masks = torch.tensor(attention_masks)\n",
        "\n",
        "    return input_ids, attention_masks"
      ]
    },
    {
      "cell_type": "code",
      "execution_count": null,
      "metadata": {
        "colab": {
          "base_uri": "https://localhost:8080/"
        },
        "id": "kbyeMEgy7sha",
        "outputId": "ca8bd281-75af-4929-a69f-a3382a238d4b"
      },
      "outputs": [
        {
          "output_type": "stream",
          "name": "stdout",
          "text": [
            "Max length:  100\n"
          ]
        }
      ],
      "source": [
        "# Concatenate train data and test data\n",
        "all_tweets = np.concatenate([X_train_preprocessed, X_val_preprocessed])\n",
        "\n",
        "# Encode our concatenated data\n",
        "encoded_tweets = [tokenizer.encode(sent, add_special_tokens=True) for sent in all_tweets]\n",
        "\n",
        "# Find the maximum length\n",
        "max_len = max([len(sent) for sent in encoded_tweets])\n",
        "print('Max length: ', max_len)"
      ]
    },
    {
      "cell_type": "code",
      "execution_count": null,
      "metadata": {
        "colab": {
          "base_uri": "https://localhost:8080/"
        },
        "id": "6X-mA-Z379cR",
        "outputId": "910b4f63-31cd-44ed-c1ba-00adeb56b293"
      },
      "outputs": [
        {
          "output_type": "stream",
          "name": "stderr",
          "text": [
            "Truncation was not explicitly activated but `max_length` is provided a specific value, please use `truncation=True` to explicitly truncate examples to max length. Defaulting to 'longest_first' truncation strategy. If you encode pairs of sequences (GLUE-style) with the tokenizer you can select this strategy more precisely by providing a specific strategy to `truncation`.\n"
          ]
        },
        {
          "output_type": "stream",
          "name": "stdout",
          "text": [
            "Original:  usuario subnormal escorio cateto humildad cristiano\n",
            "Token IDs:  [4, 9127, 1884, 1420, 30936, 11987, 5545, 3726, 3316, 1071, 13215, 1109, 15911, 5, 1, 1, 1, 1, 1, 1, 1, 1, 1, 1, 1, 1, 1, 1, 1, 1, 1, 1, 1, 1, 1, 1, 1, 1, 1, 1, 1, 1, 1, 1, 1, 1, 1, 1, 1, 1, 1, 1, 1, 1, 1, 1, 1, 1, 1, 1, 1, 1, 1, 1, 1, 1, 1, 1, 1, 1, 1, 1, 1, 1, 1, 1, 1, 1, 1, 1, 1, 1, 1, 1, 1, 1, 1, 1, 1, 1, 1, 1, 1, 1, 1, 1, 1, 1, 1, 1]\n",
            "Tokenizing data...\n"
          ]
        },
        {
          "output_type": "stream",
          "name": "stderr",
          "text": [
            "/usr/local/lib/python3.7/dist-packages/transformers/tokenization_utils_base.py:2257: FutureWarning: The `pad_to_max_length` argument is deprecated and will be removed in a future version, use `padding=True` or `padding='longest'` to pad to the longest sequence in the batch, or use `padding='max_length'` to pad to a max length. In this case, you can give a specific length with `max_length` (e.g. `max_length=45`) or leave max_length to None to pad to the maximal input size of the model (e.g. 512 for Bert).\n",
            "  FutureWarning,\n"
          ]
        }
      ],
      "source": [
        "# Specify `MAX_LEN`\n",
        "MAX_LEN = max_len\n",
        "\n",
        "# Print sentence 0 and its encoded token ids\n",
        "token_ids = list(preprocessing_for_bert([X_train_preprocessed[0]])[0].squeeze().numpy())\n",
        "print('Original: ', X_train_preprocessed[0])\n",
        "print('Token IDs: ', token_ids)\n",
        "\n",
        "# Run function `preprocessing_for_bert` on the train set and the validation set\n",
        "print('Tokenizing data...')\n",
        "train_inputs, train_masks = preprocessing_for_bert(X_train_preprocessed)\n",
        "val_inputs, val_masks = preprocessing_for_bert(X_val_preprocessed)"
      ]
    },
    {
      "cell_type": "code",
      "execution_count": null,
      "metadata": {
        "id": "H_CloXPQ9XBO"
      },
      "outputs": [],
      "source": [
        "from torch.utils.data import TensorDataset, DataLoader, RandomSampler, SequentialSampler\n",
        "\n",
        "# Convert other data types to torch.Tensor\n",
        "train_labels = torch.tensor(y_train) \n",
        "val_labels = torch.tensor(y_val)\n",
        "\n",
        "# For fine-tuning BERT, the authors recommend a batch size of 16 or 32.\n",
        "batch_size = 32\n",
        "\n",
        "# Create the DataLoader for our training set\n",
        "train_data = TensorDataset(train_inputs, train_masks, train_labels)\n",
        "train_sampler = RandomSampler(train_data)\n",
        "train_dataloader = DataLoader(train_data, sampler=train_sampler, batch_size=batch_size)\n",
        "\n",
        "# Create the DataLoader for our validation set\n",
        "val_data = TensorDataset(val_inputs, val_masks, val_labels)\n",
        "val_sampler = SequentialSampler(val_data)\n",
        "val_dataloader = DataLoader(val_data, sampler=val_sampler, batch_size=batch_size)"
      ]
    },
    {
      "cell_type": "code",
      "execution_count": null,
      "metadata": {
        "colab": {
          "base_uri": "https://localhost:8080/"
        },
        "id": "WK_400TBoRwR",
        "outputId": "9d7a6481-de22-4de8-e9a0-cf70082fc686"
      },
      "outputs": [
        {
          "output_type": "stream",
          "name": "stdout",
          "text": [
            "CPU times: user 111 µs, sys: 3 µs, total: 114 µs\n",
            "Wall time: 118 µs\n"
          ]
        }
      ],
      "source": [
        "%%time\n",
        "import torch\n",
        "import torch.nn as nn\n",
        "from transformers import BertModel\n",
        "\n",
        "# Create the BertClassfier class\n",
        "class BertClassifier(nn.Module):\n",
        "    \"\"\"Bert Model for Classification Tasks.\n",
        "    \"\"\"\n",
        "    def __init__(self, freeze_bert=False):\n",
        "        \"\"\"\n",
        "        @param    bert: a BertModel object\n",
        "        @param    classifier: a torch.nn.Module classifier\n",
        "        @param    freeze_bert (bool): Set `False` to fine-tune the BERT model\n",
        "        \"\"\"\n",
        "        super(BertClassifier, self).__init__()\n",
        "        # Specify hidden size of BERT, hidden size of our classifier, and number of labels\n",
        "        D_in, H, D_out = 768, 50, 2\n",
        "\n",
        "        # Instantiate BERT model\n",
        "        self.bert = BertModel.from_pretrained('pytorch/')\n",
        "\n",
        "        # Instantiate an one-layer feed-forward classifier\n",
        "        self.classifier = nn.Sequential(\n",
        "            nn.Linear(D_in, H),\n",
        "            nn.ReLU(),\n",
        "            #nn.Dropout(0.5),\n",
        "            nn.Linear(H, D_out)\n",
        "        )\n",
        "\n",
        "        # Freeze the BERT model\n",
        "        if freeze_bert:\n",
        "            for param in self.bert.parameters():\n",
        "                param.requires_grad = False\n",
        "        \n",
        "    def forward(self, input_ids, attention_mask):\n",
        "        \"\"\"\n",
        "        Feed input to BERT and the classifier to compute logits.\n",
        "        @param    input_ids (torch.Tensor): an input tensor with shape (batch_size,\n",
        "                      max_length)\n",
        "        @param    attention_mask (torch.Tensor): a tensor that hold attention mask\n",
        "                      information with shape (batch_size, max_length)\n",
        "        @return   logits (torch.Tensor): an output tensor with shape (batch_size,\n",
        "                      num_labels)\n",
        "        \"\"\"\n",
        "        # Feed input to BERT\n",
        "        outputs = self.bert(input_ids=input_ids,\n",
        "                            attention_mask=attention_mask)\n",
        "        \n",
        "        # Extract the last hidden state of the token `[CLS]` for classification task\n",
        "        last_hidden_state_cls = outputs[0][:, 0, :]\n",
        "\n",
        "        # Feed input to classifier to compute logits\n",
        "        logits = self.classifier(last_hidden_state_cls)\n",
        "\n",
        "        return logits"
      ]
    },
    {
      "cell_type": "code",
      "execution_count": null,
      "metadata": {
        "colab": {
          "base_uri": "https://localhost:8080/"
        },
        "id": "8tnxM5_S2Pyf",
        "outputId": "cfee6978-c5a2-4285-c5d5-4b1db6b93a97"
      },
      "outputs": [
        {
          "output_type": "stream",
          "name": "stdout",
          "text": [
            "There are 1 GPU(s) available.\n",
            "Device name: Tesla T4\n"
          ]
        }
      ],
      "source": [
        "import torch\n",
        "\n",
        "if torch.cuda.is_available():       \n",
        "    device = torch.device(\"cuda\")\n",
        "    print(f'There are {torch.cuda.device_count()} GPU(s) available.')\n",
        "    print('Device name:', torch.cuda.get_device_name(0))\n",
        "\n",
        "else:\n",
        "    print('No GPU available, using the CPU instead.')\n",
        "    device = torch.device(\"cpu\")"
      ]
    },
    {
      "cell_type": "code",
      "execution_count": null,
      "metadata": {
        "id": "0MnXlUEOoUod"
      },
      "outputs": [],
      "source": [
        "from transformers import AdamW, get_linear_schedule_with_warmup\n",
        "\n",
        "def initialize_model(epochs=4):\n",
        "    \"\"\"Initialize the Bert Classifier, the optimizer and the learning rate scheduler.\n",
        "    \"\"\"\n",
        "    # Instantiate Bert Classifier\n",
        "    bert_classifier = BertClassifier(freeze_bert=False)\n",
        "\n",
        "    # Create the optimizer\n",
        "    optimizer = AdamW(bert_classifier.parameters(),\n",
        "                      lr=5e-5,    # Default learning rate\n",
        "                      eps=1e-8    # Default epsilon value\n",
        "                      )\n",
        "\n",
        "    # Total number of training steps\n",
        "    total_steps = len(train_dataloader) * epochs\n",
        "\n",
        "    # Set up the learning rate scheduler\n",
        "    scheduler = get_linear_schedule_with_warmup(optimizer,\n",
        "                                                num_warmup_steps=0, # Default value\n",
        "                                                num_training_steps=total_steps)\n",
        "    return bert_classifier, optimizer, scheduler"
      ]
    },
    {
      "cell_type": "code",
      "execution_count": null,
      "metadata": {
        "id": "Pn_pJMNesmTO"
      },
      "outputs": [],
      "source": [
        "import random\n",
        "import time\n",
        "\n",
        "# Specify loss function\n",
        "loss_fn = nn.CrossEntropyLoss()\n",
        "\n",
        "\n",
        "def train(model, train_dataloader, val_dataloader=None, epochs=4, evaluation=False):\n",
        "    \"\"\"Train the BertClassifier model.\n",
        "    \"\"\"\n",
        "    # Start training loop\n",
        "    print(\"Start training...\\n\")\n",
        "    for epoch_i in range(epochs):\n",
        "        # =======================================\n",
        "        #               Training\n",
        "        # =======================================\n",
        "        # Print the header of the result table\n",
        "        print(f\"{'Epoch':^7} | {'Batch':^7} | {'Train Loss':^12} | {'Val Loss':^10} | {'Val Acc':^9} | {'Elapsed':^9}\")\n",
        "        print(\"-\"*70)\n",
        "\n",
        "        # Measure the elapsed time of each epoch\n",
        "        t0_epoch, t0_batch = time.time(), time.time()\n",
        "\n",
        "        # Reset tracking variables at the beginning of each epoch\n",
        "        total_loss, batch_loss, batch_counts = 0, 0, 0\n",
        "\n",
        "        # Put the model into the training mode\n",
        "        model.train()\n",
        "\n",
        "        # For each batch of training data...\n",
        "        for step, batch in enumerate(train_dataloader):\n",
        "            batch_counts +=1\n",
        "            # Load batch to GPU\n",
        "            b_input_ids, b_attn_mask, b_labels = tuple(t for t in batch)\n",
        "\n",
        "            # Zero out any previously calculated gradients\n",
        "            model.zero_grad()\n",
        "\n",
        "            # Perform a forward pass. This will return logits.\n",
        "            logits = model(b_input_ids, b_attn_mask)\n",
        "           \n",
        "            # Compute loss and accumulate the loss values\n",
        "            loss = loss_fn(logits, b_labels)\n",
        "            batch_loss += loss.item()\n",
        "            total_loss += loss.item()\n",
        "\n",
        "            # Perform a backward pass to calculate gradients\n",
        "            loss.backward()\n",
        "\n",
        "            # Clip the norm of the gradients to 1.0 to prevent \"exploding gradients\"\n",
        "            torch.nn.utils.clip_grad_norm_(model.parameters(), 1.0)\n",
        "\n",
        "            # Update parameters and the learning rate\n",
        "            optimizer.step()\n",
        "            scheduler.step()\n",
        "\n",
        "            # Print the loss values and time elapsed for every 20 batches\n",
        "            if (step % 20 == 0 and step != 0) or (step == len(train_dataloader) - 1):\n",
        "                # Calculate time elapsed for 20 batches\n",
        "                time_elapsed = time.time() - t0_batch\n",
        "\n",
        "                # Print training results\n",
        "                print(f\"{epoch_i + 1:^7} | {step:^7} | {batch_loss / batch_counts:^12.6f} | {'-':^10} | {'-':^9} | {time_elapsed:^9.2f}\")\n",
        "\n",
        "                # Reset batch tracking variables\n",
        "                batch_loss, batch_counts = 0, 0\n",
        "                t0_batch = time.time()\n",
        "\n",
        "        # Calculate the average loss over the entire training data\n",
        "        avg_train_loss = total_loss / len(train_dataloader)\n",
        "\n",
        "        print(\"-\"*70)\n",
        "        # =======================================\n",
        "        #               Evaluation\n",
        "        # =======================================\n",
        "        if evaluation == True:\n",
        "            # After the completion of each training epoch, measure the model's performance\n",
        "            # on our validation set.\n",
        "            val_loss, val_accuracy = evaluate(model, val_dataloader)\n",
        "\n",
        "            # Print performance over the entire training data\n",
        "            time_elapsed = time.time() - t0_epoch\n",
        "            \n",
        "            print(f\"{epoch_i + 1:^7} | {'-':^7} | {avg_train_loss:^12.6f} | {val_loss:^10.6f} | {val_accuracy:^9.2f} | {time_elapsed:^9.2f}\")\n",
        "            print(\"-\"*70)\n",
        "        print(\"\\n\")\n",
        "    \n",
        "    print(\"Training complete!\")\n",
        "\n",
        "\n",
        "def evaluate(model, val_dataloader):\n",
        "    \"\"\"After the completion of each training epoch, measure the model's performance\n",
        "    on our validation set.\n",
        "    \"\"\"\n",
        "    # Put the model into the evaluation mode. The dropout layers are disabled during\n",
        "    # the test time.\n",
        "    model.eval()\n",
        "\n",
        "    # Tracking variables\n",
        "    val_accuracy = []\n",
        "    val_loss = []\n",
        "\n",
        "    # For each batch in our validation set...\n",
        "    for batch in val_dataloader:\n",
        "        # Load batch to GPU\n",
        "        b_input_ids, b_attn_mask, b_labels = tuple(t  for t in batch)\n",
        "\n",
        "        # Compute logits\n",
        "        with torch.no_grad():\n",
        "            logits = model(b_input_ids, b_attn_mask)\n",
        "\n",
        "        # Compute loss\n",
        "        loss = loss_fn(logits, b_labels)\n",
        "        val_loss.append(loss.item())\n",
        "\n",
        "        # Get the predictions\n",
        "        preds = torch.argmax(logits, dim=1).flatten()\n",
        "\n",
        "        # Calculate the accuracy rate\n",
        "        accuracy = (preds == b_labels).cpu().numpy().mean() * 100\n",
        "        val_accuracy.append(accuracy)\n",
        "\n",
        "    # Compute the average accuracy and loss over the validation set.\n",
        "    val_loss = np.mean(val_loss)\n",
        "    val_accuracy = np.mean(val_accuracy)\n",
        "\n",
        "    return val_loss, val_accuracy"
      ]
    },
    {
      "cell_type": "code",
      "execution_count": null,
      "metadata": {
        "colab": {
          "base_uri": "https://localhost:8080/"
        },
        "id": "8oa4r8KP7VgG",
        "outputId": "faacdeb2-da73-462a-a1a3-1d8826dc1aaf"
      },
      "outputs": [
        {
          "output_type": "stream",
          "name": "stderr",
          "text": [
            "Some weights of the model checkpoint at pytorch/ were not used when initializing BertModel: ['cls.predictions.decoder.weight', 'cls.seq_relationship.bias', 'cls.predictions.transform.LayerNorm.weight', 'cls.predictions.transform.dense.weight', 'cls.seq_relationship.weight', 'cls.predictions.transform.dense.bias', 'cls.predictions.transform.LayerNorm.bias', 'cls.predictions.bias']\n",
            "- This IS expected if you are initializing BertModel from the checkpoint of a model trained on another task or with another architecture (e.g. initializing a BertForSequenceClassification model from a BertForPreTraining model).\n",
            "- This IS NOT expected if you are initializing BertModel from the checkpoint of a model that you expect to be exactly identical (initializing a BertForSequenceClassification model from a BertForSequenceClassification model).\n",
            "/usr/local/lib/python3.7/dist-packages/transformers/optimization.py:309: FutureWarning: This implementation of AdamW is deprecated and will be removed in a future version. Use thePyTorch implementation torch.optim.AdamW instead, or set `no_deprecation_warning=True` to disable this warning\n",
            "  FutureWarning,\n"
          ]
        }
      ],
      "source": [
        "bert_classifier, optimizer, scheduler = initialize_model()"
      ]
    },
    {
      "cell_type": "code",
      "execution_count": null,
      "metadata": {
        "colab": {
          "base_uri": "https://localhost:8080/"
        },
        "id": "9y3gyJ9YsnOA",
        "outputId": "3d417865-05e5-41f9-a1e4-662f59c6a6c7"
      },
      "outputs": [
        {
          "output_type": "stream",
          "name": "stdout",
          "text": [
            "Start training...\n",
            "\n",
            " Epoch  |  Batch  |  Train Loss  |  Val Loss  |  Val Acc  |  Elapsed \n",
            "----------------------------------------------------------------------\n",
            "   1    |   20    |   0.666684   |     -      |     -     |  545.48  \n",
            "   1    |   40    |   0.583439   |     -      |     -     |  515.15  \n",
            "   1    |   60    |   0.589068   |     -      |     -     |  468.50  \n",
            "   1    |   68    |   0.613844   |     -      |     -     |  184.53  \n",
            "----------------------------------------------------------------------\n",
            "   1    |    -    |   0.613931   |  0.530891  |   73.55   |  1934.18 \n",
            "----------------------------------------------------------------------\n",
            "\n",
            "\n",
            " Epoch  |  Batch  |  Train Loss  |  Val Loss  |  Val Acc  |  Elapsed \n",
            "----------------------------------------------------------------------\n",
            "   2    |   20    |   0.431268   |     -      |     -     |  481.72  \n",
            "   2    |   40    |   0.442191   |     -      |     -     |  457.57  \n",
            "   2    |   60    |   0.394832   |     -      |     -     |  462.95  \n",
            "   2    |   68    |   0.391085   |     -      |     -     |  173.95  \n",
            "----------------------------------------------------------------------\n",
            "   2    |    -    |   0.419214   |  0.526074  |   75.74   |  1795.89 \n",
            "----------------------------------------------------------------------\n",
            "\n",
            "\n",
            " Epoch  |  Batch  |  Train Loss  |  Val Loss  |  Val Acc  |  Elapsed \n",
            "----------------------------------------------------------------------\n",
            "   3    |   20    |   0.221217   |     -      |     -     |  481.88  \n",
            "   3    |   40    |   0.274397   |     -      |     -     |  458.95  \n",
            "   3    |   60    |   0.238947   |     -      |     -     |  458.92  \n",
            "   3    |   68    |   0.276962   |     -      |     -     |  173.31  \n",
            "----------------------------------------------------------------------\n",
            "   3    |    -    |   0.248234   |  0.634059  |   75.01   |  1791.76 \n",
            "----------------------------------------------------------------------\n",
            "\n",
            "\n",
            " Epoch  |  Batch  |  Train Loss  |  Val Loss  |  Val Acc  |  Elapsed \n",
            "----------------------------------------------------------------------\n",
            "   4    |   20    |   0.150110   |     -      |     -     |  490.99  \n",
            "   4    |   40    |   0.136937   |     -      |     -     |  511.62  \n",
            "   4    |   60    |   0.132766   |     -      |     -     |  500.13  \n",
            "   4    |   68    |   0.096425   |     -      |     -     |  186.93  \n",
            "----------------------------------------------------------------------\n",
            "   4    |    -    |   0.135040   |  0.789868  |   75.63   |  1925.69 \n",
            "----------------------------------------------------------------------\n",
            "\n",
            "\n",
            "Training complete!\n"
          ]
        }
      ],
      "source": [
        "train(bert_classifier, train_dataloader, val_dataloader, epochs=4, evaluation=True)"
      ]
    },
    {
      "cell_type": "code",
      "execution_count": null,
      "metadata": {
        "id": "dK_Hjylx9S67"
      },
      "outputs": [],
      "source": [
        "import torch.nn.functional as F\n",
        "\n",
        "def bert_predict(model, test_dataloader):\n",
        "    \"\"\"Perform a forward pass on the trained BERT model to predict probabilities\n",
        "    on the test set.\n",
        "    \"\"\"\n",
        "    # Put the model into the evaluation mode. The dropout layers are disabled during\n",
        "    # the test time.\n",
        "    model.eval()\n",
        "\n",
        "    all_logits = []\n",
        "\n",
        "    # For each batch in our test set...\n",
        "    for batch in test_dataloader:\n",
        "        # Load batch to GPU\n",
        "        b_input_ids, b_attn_mask = tuple(t for t in batch)[:2]\n",
        "\n",
        "        # Compute logits\n",
        "        with torch.no_grad():\n",
        "            logits = model(b_input_ids, b_attn_mask)\n",
        "        all_logits.append(logits)\n",
        "    \n",
        "    # Concatenate logits from each batch\n",
        "    all_logits = torch.cat(all_logits, dim=0)\n",
        "\n",
        "    # Apply softmax to calculate probabilities\n",
        "    probs = F.softmax(all_logits, dim=1).cpu().numpy()\n",
        "\n",
        "    return probs"
      ]
    },
    {
      "cell_type": "code",
      "execution_count": null,
      "metadata": {
        "id": "HbS72RHo9UdH"
      },
      "outputs": [],
      "source": [
        "# Compute predicted probabilities on the test set\n",
        "probs = bert_predict(bert_classifier, val_dataloader)"
      ]
    },
    {
      "cell_type": "markdown",
      "metadata": {
        "id": "YEg8YCoO-hiw"
      },
      "source": [
        ""
      ]
    },
    {
      "cell_type": "code",
      "execution_count": null,
      "metadata": {
        "colab": {
          "base_uri": "https://localhost:8080/"
        },
        "id": "rO5EN3t5-kh9",
        "outputId": "2de5ddb7-bdef-4bcc-ccda-2713eb0e3c46"
      },
      "outputs": [
        {
          "output_type": "stream",
          "name": "stdout",
          "text": [
            "Tokenizing data...\n"
          ]
        },
        {
          "output_type": "stream",
          "name": "stderr",
          "text": [
            "/usr/local/lib/python3.7/dist-packages/transformers/tokenization_utils_base.py:2257: FutureWarning: The `pad_to_max_length` argument is deprecated and will be removed in a future version, use `padding=True` or `padding='longest'` to pad to the longest sequence in the batch, or use `padding='max_length'` to pad to a max length. In this case, you can give a specific length with `max_length` (e.g. `max_length=45`) or leave max_length to None to pad to the maximal input size of the model (e.g. 512 for Bert).\n",
            "  FutureWarning,\n"
          ]
        }
      ],
      "source": [
        "# Run `preprocessing_for_bert` on the test set\n",
        "print('Tokenizing data...')\n",
        "test_inputs, test_masks = preprocessing_for_bert(X_val_preprocessed)\n",
        "\n",
        "# Create the DataLoader for our test set\n",
        "test_dataset = TensorDataset(test_inputs, test_masks)\n",
        "test_sampler = SequentialSampler(test_dataset)\n",
        "test_dataloader = DataLoader(test_dataset, sampler=test_sampler, batch_size=32)"
      ]
    },
    {
      "cell_type": "code",
      "execution_count": null,
      "metadata": {
        "colab": {
          "base_uri": "https://localhost:8080/"
        },
        "id": "U-uY8lC8-pED",
        "outputId": "50047fa2-44ba-4122-dd49-8a63722cc2cb"
      },
      "outputs": [
        {
          "output_type": "stream",
          "name": "stdout",
          "text": [
            "[[0.00841743 0.9915826 ]\n",
            " [0.992577   0.00742293]\n",
            " [0.03493276 0.96506727]\n",
            " ...\n",
            " [0.9920527  0.00794736]\n",
            " [0.9777141  0.02228589]\n",
            " [0.02682488 0.9731751 ]]\n"
          ]
        }
      ],
      "source": [
        "# Compute predicted probabilities on the test set\n",
        "probs = bert_predict(bert_classifier, test_dataloader)\n",
        "print(probs)\n"
      ]
    },
    {
      "cell_type": "code",
      "execution_count": null,
      "metadata": {
        "id": "ULZ9h7QsAFw3"
      },
      "outputs": [],
      "source": [
        "test = probs[:,None].argmax(-1)\n",
        "test"
      ]
    },
    {
      "cell_type": "code",
      "execution_count": null,
      "metadata": {
        "colab": {
          "base_uri": "https://localhost:8080/"
        },
        "id": "TS5Oewu4AKUY",
        "outputId": "394cc9ab-f1c7-445d-9544-d9602e75eac9"
      },
      "outputs": [
        {
          "output_type": "execute_result",
          "data": {
            "text/plain": [
              "array([0.75027027, 0.75862069])"
            ]
          },
          "metadata": {},
          "execution_count": 66
        }
      ],
      "source": [
        "f1_score(y_val, test, average = None) "
      ]
    },
    {
      "cell_type": "code",
      "execution_count": null,
      "metadata": {
        "id": "WciBZmANGT4r"
      },
      "outputs": [],
      "source": [
        "model_name.append('Bert transformer')\n",
        "vectors.append('Bert preprocess')\n",
        "f1.append(f1_score(y_val, test) * 100)\n",
        "accuracy.append(accuracy_score(y_val, test) * 100)"
      ]
    },
    {
      "cell_type": "markdown",
      "metadata": {
        "id": "X0X5MsJyafqp"
      },
      "source": [
        "## Long Short Term Memory (LSTM) \n",
        "LSTM networks are a special type of RNN (Recurrent Neural Network) that is structured to remember and predict based on long-term dependencies that are trained with time-series data. \n",
        "\n",
        "[Sentiment Analysis with Gated Recurrent Units](https://krishisanskriti.org/vol_image/21Jul201503071043%20%20%20%20%20Faiyz%20Ahmad%202%20%20%20%20%20%20%20%20%2059-63.pdf)"
      ]
    },
    {
      "cell_type": "code",
      "execution_count": null,
      "metadata": {
        "id": "dFCFrrd4rDv8"
      },
      "outputs": [],
      "source": [
        "import pandas as pd\n",
        "import tensorflow as tf\n",
        "from tensorflow import keras"
      ]
    },
    {
      "cell_type": "code",
      "execution_count": null,
      "metadata": {
        "id": "FWfIMIMhvw16"
      },
      "outputs": [],
      "source": [
        "from keras.preprocessing.text import Tokenizer\n",
        "from keras.preprocessing.sequence import pad_sequences\n",
        "\n",
        "tokenizer_obj = Tokenizer()\n",
        "total_reviews = X_train_preprocessed + X_val_preprocessed\n",
        "tokenizer_obj.fit_on_texts(total_reviews) "
      ]
    },
    {
      "cell_type": "code",
      "execution_count": null,
      "metadata": {
        "colab": {
          "base_uri": "https://localhost:8080/"
        },
        "id": "HQBHBb9118ze",
        "outputId": "e0e4012f-fc98-4d0c-e589-e34f8889ee92"
      },
      "outputs": [
        {
          "output_type": "execute_result",
          "data": {
            "text/plain": [
              "380"
            ]
          },
          "metadata": {},
          "execution_count": 125
        }
      ],
      "source": [
        "max_length = len(max(total_reviews, key=len))\n",
        "max_length"
      ]
    },
    {
      "cell_type": "code",
      "execution_count": null,
      "metadata": {
        "id": "F4ELpbeKt058"
      },
      "outputs": [],
      "source": [
        "vocab_size = len(tokenizer_obj.word_index) + 1\n",
        "\n",
        "X_train_tokens =  tokenizer_obj.texts_to_sequences(X_train_preprocessed)\n",
        "X_test_tokens = tokenizer_obj.texts_to_sequences(X_val_preprocessed)\n",
        "\n",
        "\n",
        "X_train_pad = pad_sequences(X_train_tokens, maxlen=max_length, padding='post')\n",
        "X_test_pad = pad_sequences(X_test_tokens, maxlen=max_length, padding='post')"
      ]
    },
    {
      "cell_type": "code",
      "execution_count": null,
      "metadata": {
        "colab": {
          "base_uri": "https://localhost:8080/"
        },
        "id": "QNStaPRVbBKm",
        "outputId": "5eb9ef12-2730-4c37-85af-5732bc2d0106"
      },
      "outputs": [
        {
          "output_type": "stream",
          "name": "stdout",
          "text": [
            "Model: \"sequential\"\n",
            "_________________________________________________________________\n",
            " Layer (type)                Output Shape              Param #   \n",
            "=================================================================\n",
            " embedding (Embedding)       (None, 380, 128)          942720    \n",
            "                                                                 \n",
            " bidirectional (Bidirectiona  (None, 128)              98816     \n",
            " l)                                                              \n",
            "                                                                 \n",
            " dense (Dense)               (None, 1)                 129       \n",
            "                                                                 \n",
            "=================================================================\n",
            "Total params: 1,041,665\n",
            "Trainable params: 1,041,665\n",
            "Non-trainable params: 0\n",
            "_________________________________________________________________\n"
          ]
        }
      ],
      "source": [
        "EMBEDDING_DIM = 128\n",
        "model = tf.keras.Sequential()\n",
        "model.add(tf.keras.layers.Embedding(vocab_size, EMBEDDING_DIM, input_length=max_length))\n",
        "model.add(tf.keras.layers.Bidirectional(tf.keras.layers.LSTM(64, dropout=0.2)))\n",
        "model.add(tf.keras.layers.Dense(1, activation='sigmoid'))\n",
        "model.summary()"
      ]
    },
    {
      "cell_type": "code",
      "execution_count": null,
      "metadata": {
        "id": "tWhKqci0bLd4"
      },
      "outputs": [],
      "source": [
        "model.compile(loss='binary_crossentropy', optimizer='adam', metrics=['accuracy'])"
      ]
    },
    {
      "cell_type": "code",
      "execution_count": null,
      "metadata": {
        "id": "uC4q18X081x6"
      },
      "outputs": [],
      "source": [
        "my_callbacks = [\n",
        "    tf.keras.callbacks.EarlyStopping(monitor='loss',patience=2),\n",
        "    tf.keras.callbacks.ModelCheckpoint(filepath='model_BEST.h5'),\n",
        "]"
      ]
    },
    {
      "cell_type": "code",
      "execution_count": null,
      "metadata": {
        "colab": {
          "base_uri": "https://localhost:8080/"
        },
        "id": "hkJI-KErbNYZ",
        "outputId": "605a68f4-70e8-4a80-bb49-18a05f239ab7"
      },
      "outputs": [
        {
          "output_type": "stream",
          "name": "stdout",
          "text": [
            "Epoch 1/20\n",
            "18/18 [==============================] - 10s 109ms/step - loss: 0.6881 - accuracy: 0.5609 - val_loss: 0.6760 - val_accuracy: 0.6408\n",
            "Epoch 2/20\n",
            "18/18 [==============================] - 1s 53ms/step - loss: 0.6303 - accuracy: 0.7091 - val_loss: 0.6184 - val_accuracy: 0.6865\n",
            "Epoch 3/20\n",
            "18/18 [==============================] - 1s 53ms/step - loss: 1.0664 - accuracy: 0.7273 - val_loss: 2.5728 - val_accuracy: 0.4846\n",
            "Epoch 4/20\n",
            "18/18 [==============================] - 1s 53ms/step - loss: 1.6677 - accuracy: 0.4979 - val_loss: 0.7327 - val_accuracy: 0.5154\n"
          ]
        }
      ],
      "source": [
        "history = model.fit(X_train_pad, y_train, epochs=20, validation_data=(X_test_pad, y_val), batch_size=128, callbacks=my_callbacks)\n"
      ]
    },
    {
      "cell_type": "code",
      "execution_count": null,
      "metadata": {
        "id": "vFu8mP_YBsKv"
      },
      "outputs": [],
      "source": [
        "model.load_weights('/content/model_BEST.h5')"
      ]
    },
    {
      "cell_type": "code",
      "execution_count": null,
      "metadata": {
        "colab": {
          "base_uri": "https://localhost:8080/"
        },
        "id": "am93H8dk0Wf0",
        "outputId": "8dd94f52-445a-4de8-eeee-0c684b34ff0e"
      },
      "outputs": [
        {
          "output_type": "stream",
          "name": "stdout",
          "text": [
            "30/30 [==============================] - 0s 13ms/step - loss: 0.7327 - accuracy: 0.5154\n",
            "Test score: 0.7327156066894531\n",
            "Test accuracy: 0.5154091119766235\n",
            "Accuracy: 51.54%\n"
          ]
        }
      ],
      "source": [
        "score, acc = model.evaluate(X_test_pad, y_val)\n",
        "\n",
        "print('Test score:', score)\n",
        "print('Test accuracy:', acc)\n",
        "\n",
        "print(\"Accuracy: {0:.2%}\".format(acc))"
      ]
    },
    {
      "cell_type": "code",
      "execution_count": null,
      "metadata": {
        "id": "_RUQx0hR0fod"
      },
      "outputs": [],
      "source": [
        "predictions = model.predict(X_test_pad, batch_size=128)\n",
        "predictions"
      ]
    },
    {
      "cell_type": "code",
      "execution_count": null,
      "metadata": {
        "id": "CkoWMoZc6DYK"
      },
      "outputs": [],
      "source": [
        "y_pred = ((predictions > 0.5)+0).ravel()"
      ]
    },
    {
      "cell_type": "code",
      "execution_count": null,
      "metadata": {
        "id": "waiCMI9z1hYm"
      },
      "outputs": [],
      "source": [
        "model_name.append('Bidirectional LSTM')\n",
        "vectors.append('Word Embedding')\n",
        "f1.append(f1_score(y_val, y_pred) * 100)\n",
        "accuracy.append(accuracy_score(y_val, y_pred) * 100)"
      ]
    },
    {
      "cell_type": "markdown",
      "metadata": {
        "id": "eUtPsByjjvq_"
      },
      "source": [
        "# Pysentimiento library\n",
        "This library works with a pretrained transformer. It is also trained with a twitter hate speech dataset.\n",
        "\n",
        "[pysentimiento](https://github.com/pysentimiento/pysentimiento): A Python Toolkit for Sentiment Analysis and SocialNLP tasks"
      ]
    },
    {
      "cell_type": "code",
      "execution_count": null,
      "metadata": {
        "colab": {
          "base_uri": "https://localhost:8080/"
        },
        "id": "hLTAGqwxkKoi",
        "outputId": "c84bc237-9155-4718-8edd-fce89823e507"
      },
      "outputs": [
        {
          "output_type": "stream",
          "name": "stderr",
          "text": [
            "loading file https://huggingface.co/pysentimiento/robertuito-sentiment-analysis/resolve/main/added_tokens.json from cache at None\n",
            "loading file https://huggingface.co/pysentimiento/robertuito-sentiment-analysis/resolve/main/special_tokens_map.json from cache at /root/.cache/huggingface/transformers/25e0e805456d2786a12b70b86278c6e839d19958cb4f541ee1f78621140098f7.0dc5b1041f62041ebbd23b1297f2f573769d5c97d8b7c28180ec86b8f6185aa8\n",
            "loading file https://huggingface.co/pysentimiento/robertuito-sentiment-analysis/resolve/main/tokenizer_config.json from cache at /root/.cache/huggingface/transformers/4fdf9a5a8e0a6023e1a9cdef62921158c3db9545e73f8dc0f46340a21bbb64d5.50a2bcf7668df2ff5a82b7b0455533bb4c0db21e6e33565fa20fd7dc8a3be740\n",
            "loading file https://huggingface.co/pysentimiento/robertuito-sentiment-analysis/resolve/main/tokenizer.json from cache at /root/.cache/huggingface/transformers/47dd2d3180a6186d30715516321375322e3a84d5e4656762e083091bbb5d5dc4.0843b07596b388e054bae078721182b4846b9e28a7bbf04d7079b274f8613ae3\n",
            "loading configuration file https://huggingface.co/pysentimiento/robertuito-sentiment-analysis/resolve/main/config.json from cache at /root/.cache/huggingface/transformers/034fd09e9530137fb6e6c042529972a92619fb02df8b40e7a4cfc50090943c46.98e658c5b8878c67807e3287b07db9608dbd08a5b69ce09979c447190bbe8077\n",
            "Model config RobertaConfig {\n",
            "  \"_name_or_path\": \"pysentimiento/robertuito-sentiment-analysis\",\n",
            "  \"architectures\": [\n",
            "    \"RobertaForSequenceClassification\"\n",
            "  ],\n",
            "  \"attention_probs_dropout_prob\": 0.1,\n",
            "  \"bos_token_id\": 0,\n",
            "  \"classifier_dropout\": null,\n",
            "  \"eos_token_id\": 2,\n",
            "  \"gradient_checkpointing\": false,\n",
            "  \"hidden_act\": \"gelu\",\n",
            "  \"hidden_dropout_prob\": 0.1,\n",
            "  \"hidden_size\": 768,\n",
            "  \"id2label\": {\n",
            "    \"0\": \"NEG\",\n",
            "    \"1\": \"NEU\",\n",
            "    \"2\": \"POS\"\n",
            "  },\n",
            "  \"initializer_range\": 0.02,\n",
            "  \"intermediate_size\": 3072,\n",
            "  \"label2id\": {\n",
            "    \"NEG\": 0,\n",
            "    \"NEU\": 1,\n",
            "    \"POS\": 2\n",
            "  },\n",
            "  \"layer_norm_eps\": 1e-12,\n",
            "  \"max_position_embeddings\": 130,\n",
            "  \"model_type\": \"roberta\",\n",
            "  \"num_attention_heads\": 12,\n",
            "  \"num_hidden_layers\": 12,\n",
            "  \"pad_token_id\": 1,\n",
            "  \"position_embedding_type\": \"absolute\",\n",
            "  \"problem_type\": \"single_label_classification\",\n",
            "  \"torch_dtype\": \"float32\",\n",
            "  \"transformers_version\": \"4.16.2\",\n",
            "  \"type_vocab_size\": 1,\n",
            "  \"use_cache\": true,\n",
            "  \"vocab_size\": 30002\n",
            "}\n",
            "\n",
            "loading weights file https://huggingface.co/pysentimiento/robertuito-sentiment-analysis/resolve/main/pytorch_model.bin from cache at /root/.cache/huggingface/transformers/46eaf2275c70a984feed87be9019d2c427e10e13e4498d391bedffc0c61b4991.01d3c05bd9b3f5c750a6a897fc7bc380ac6c30347fa348718ca5ed37b03fdd46\n",
            "All model checkpoint weights were used when initializing RobertaForSequenceClassification.\n",
            "\n",
            "All the weights of RobertaForSequenceClassification were initialized from the model checkpoint at pysentimiento/robertuito-sentiment-analysis.\n",
            "If your task is similar to the task the model of the checkpoint was trained on, you can already use RobertaForSequenceClassification for predictions without further training.\n",
            "PyTorch: setting up devices\n",
            "The default value for the training argument `--report_to` will change in v5 (from all installed integrations to none). In v5, you will need to use `--report_to all` to get the same behavior as now. You should start updating your code and make this info disappear :-).\n",
            "loading file https://huggingface.co/pysentimiento/robertuito-hate-speech/resolve/main/added_tokens.json from cache at None\n",
            "loading file https://huggingface.co/pysentimiento/robertuito-hate-speech/resolve/main/special_tokens_map.json from cache at /root/.cache/huggingface/transformers/29bbf6eb913fdd3d8aaabeec43896b21a574167c27d3a9a85fc9dc57eea39ace.0dc5b1041f62041ebbd23b1297f2f573769d5c97d8b7c28180ec86b8f6185aa8\n",
            "loading file https://huggingface.co/pysentimiento/robertuito-hate-speech/resolve/main/tokenizer_config.json from cache at /root/.cache/huggingface/transformers/f151cdb0362e2cc8c419bd5878232bea313009ac93445c0f66bf43ea764cd71c.50a2bcf7668df2ff5a82b7b0455533bb4c0db21e6e33565fa20fd7dc8a3be740\n",
            "loading file https://huggingface.co/pysentimiento/robertuito-hate-speech/resolve/main/tokenizer.json from cache at /root/.cache/huggingface/transformers/82bf0643b37bd3be5cb16b6646358a7e6c7de8829f035e79cdc14ad408ebf3ce.0843b07596b388e054bae078721182b4846b9e28a7bbf04d7079b274f8613ae3\n",
            "loading configuration file https://huggingface.co/pysentimiento/robertuito-hate-speech/resolve/main/config.json from cache at /root/.cache/huggingface/transformers/c798fcd43b0ff166a11ccb606e916eed37ea5800b4dd20ff2edd880fdb8a5cbd.29b427f0b44d35a50b9f730f9e93dbf914ed3fb60537c82b311e1f4732dfdcca\n",
            "Model config RobertaConfig {\n",
            "  \"_name_or_path\": \"pysentimiento/robertuito-hate-speech\",\n",
            "  \"architectures\": [\n",
            "    \"RobertaForSequenceClassification\"\n",
            "  ],\n",
            "  \"attention_probs_dropout_prob\": 0.1,\n",
            "  \"bos_token_id\": 0,\n",
            "  \"classifier_dropout\": null,\n",
            "  \"eos_token_id\": 2,\n",
            "  \"gradient_checkpointing\": false,\n",
            "  \"hidden_act\": \"gelu\",\n",
            "  \"hidden_dropout_prob\": 0.1,\n",
            "  \"hidden_size\": 768,\n",
            "  \"id2label\": {\n",
            "    \"0\": \"hateful\",\n",
            "    \"1\": \"targeted\",\n",
            "    \"2\": \"aggressive\"\n",
            "  },\n",
            "  \"initializer_range\": 0.02,\n",
            "  \"intermediate_size\": 3072,\n",
            "  \"label2id\": {\n",
            "    \"aggressive\": 2,\n",
            "    \"hateful\": 0,\n",
            "    \"targeted\": 1\n",
            "  },\n",
            "  \"layer_norm_eps\": 1e-12,\n",
            "  \"max_position_embeddings\": 130,\n",
            "  \"model_type\": \"roberta\",\n",
            "  \"num_attention_heads\": 12,\n",
            "  \"num_hidden_layers\": 12,\n",
            "  \"pad_token_id\": 1,\n",
            "  \"position_embedding_type\": \"absolute\",\n",
            "  \"problem_type\": \"multi_label_classification\",\n",
            "  \"torch_dtype\": \"float32\",\n",
            "  \"transformers_version\": \"4.16.2\",\n",
            "  \"type_vocab_size\": 1,\n",
            "  \"use_cache\": true,\n",
            "  \"vocab_size\": 30002\n",
            "}\n",
            "\n",
            "loading weights file https://huggingface.co/pysentimiento/robertuito-hate-speech/resolve/main/pytorch_model.bin from cache at /root/.cache/huggingface/transformers/0f783b30471b13a04879e5c7f59ffb7e46b2aa6070bfc1de054e22f3730876b4.55428a0f24699e85f25e62ebe82b655dc72cfe0abf1f37e9b20c3d41978bbcf0\n",
            "All model checkpoint weights were used when initializing RobertaForSequenceClassification.\n",
            "\n",
            "All the weights of RobertaForSequenceClassification were initialized from the model checkpoint at pysentimiento/robertuito-hate-speech.\n",
            "If your task is similar to the task the model of the checkpoint was trained on, you can already use RobertaForSequenceClassification for predictions without further training.\n",
            "PyTorch: setting up devices\n",
            "The default value for the training argument `--report_to` will change in v5 (from all installed integrations to none). In v5, you will need to use `--report_to all` to get the same behavior as now. You should start updating your code and make this info disappear :-).\n"
          ]
        }
      ],
      "source": [
        "from pysentimiento import create_analyzer\n",
        "analyzer = create_analyzer(task=\"sentiment\", lang=\"es\")\n",
        "hate_speech_analyzer = create_analyzer(task=\"hate_speech\", lang=\"es\")"
      ]
    },
    {
      "cell_type": "code",
      "execution_count": null,
      "metadata": {
        "colab": {
          "base_uri": "https://localhost:8080/"
        },
        "id": "YQIGDi7ikQxw",
        "outputId": "610f5cfa-dd2c-4276-bef4-a70c460c8048"
      },
      "outputs": [
        {
          "output_type": "execute_result",
          "data": {
            "text/plain": [
              "AnalyzerOutput(output=['hateful', 'targeted', 'aggressive'], probas={hateful: 0.987, targeted: 0.980, aggressive: 0.973})"
            ]
          },
          "metadata": {},
          "execution_count": 138
        }
      ],
      "source": [
        "hate_speech_analyzer.predict(\"Vaya guarra barata y de poca monta es Miley!\")\n"
      ]
    },
    {
      "cell_type": "code",
      "execution_count": null,
      "metadata": {
        "id": "Y5AZRcCynCsi"
      },
      "outputs": [],
      "source": [
        "from pysentimiento.preprocessing import preprocess_tweet\n",
        "\n",
        "# Replaces user handles and URLs by special tokens\n",
        "X_val_pysent = [preprocess_tweet(i, shorten=2) for i in X_val] # \"@usuario debería cambiar esto url\"\n"
      ]
    },
    {
      "cell_type": "code",
      "execution_count": null,
      "metadata": {
        "id": "EpT0POG_kicT"
      },
      "outputs": [],
      "source": [
        "predictions=[]\n",
        "for i in X_val_pysent:\n",
        "  ans= hate_speech_analyzer.predict(i)\n",
        "  if len(ans.output) >0:\n",
        "    predictions.append(1)\n",
        "  else:\n",
        "    predictions.append(0)"
      ]
    },
    {
      "cell_type": "code",
      "execution_count": null,
      "metadata": {
        "colab": {
          "base_uri": "https://localhost:8080/"
        },
        "id": "N1V0iZl9mQaK",
        "outputId": "29cf622d-9bdf-47c4-9d9c-cf963aed40e7"
      },
      "outputs": [
        {
          "output_type": "execute_result",
          "data": {
            "text/plain": [
              "35.007610350076106"
            ]
          },
          "metadata": {},
          "execution_count": 141
        }
      ],
      "source": [
        "f1_score(y_val, predictions) * 100"
      ]
    },
    {
      "cell_type": "code",
      "execution_count": null,
      "metadata": {
        "id": "zf-qEtOTlXi6"
      },
      "outputs": [],
      "source": [
        "model_name.append('Pysentimiento library')\n",
        "vectors.append('Library pre-process')\n",
        "f1.append(f1_score(y_val, predictions) * 100)\n",
        "accuracy.append(accuracy_score(y_val, predictions) * 100)"
      ]
    },
    {
      "cell_type": "markdown",
      "metadata": {
        "id": "7CXnVDU4ZDHM"
      },
      "source": [
        "# Results\n",
        "\n",
        "In this section we compare the scores between models."
      ]
    },
    {
      "cell_type": "code",
      "execution_count": null,
      "metadata": {
        "colab": {
          "base_uri": "https://localhost:8080/"
        },
        "id": "A0lHa9GaitEn",
        "outputId": "844a685d-66c3-45cc-9b25-70374257c5f3"
      },
      "outputs": [
        {
          "output_type": "execute_result",
          "data": {
            "text/html": [
              "\n",
              "  <div id=\"df-da69453b-b377-4923-a3c6-97c517dcb07f\">\n",
              "    <div class=\"colab-df-container\">\n",
              "      <div>\n",
              "<style scoped>\n",
              "    .dataframe tbody tr th:only-of-type {\n",
              "        vertical-align: middle;\n",
              "    }\n",
              "\n",
              "    .dataframe tbody tr th {\n",
              "        vertical-align: top;\n",
              "    }\n",
              "\n",
              "    .dataframe thead th {\n",
              "        text-align: right;\n",
              "    }\n",
              "</style>\n",
              "<table border=\"1\" class=\"dataframe\">\n",
              "  <thead>\n",
              "    <tr style=\"text-align: right;\">\n",
              "      <th></th>\n",
              "      <th>Model</th>\n",
              "      <th>Preprocess text</th>\n",
              "      <th>F1-score</th>\n",
              "      <th>Accuracy</th>\n",
              "    </tr>\n",
              "  </thead>\n",
              "  <tbody>\n",
              "    <tr>\n",
              "      <th>4</th>\n",
              "      <td>Bert transformer</td>\n",
              "      <td>Bert preprocess</td>\n",
              "      <td>75.862069</td>\n",
              "      <td>75.451647</td>\n",
              "    </tr>\n",
              "    <tr>\n",
              "      <th>2</th>\n",
              "      <td>Logistic Regression</td>\n",
              "      <td>TF-ID</td>\n",
              "      <td>74.688797</td>\n",
              "      <td>74.070138</td>\n",
              "    </tr>\n",
              "    <tr>\n",
              "      <th>3</th>\n",
              "      <td>Naive Bayes</td>\n",
              "      <td>TF-ID</td>\n",
              "      <td>74.569402</td>\n",
              "      <td>73.326249</td>\n",
              "    </tr>\n",
              "    <tr>\n",
              "      <th>0</th>\n",
              "      <td>Support Vector Machine</td>\n",
              "      <td>TF-ID</td>\n",
              "      <td>74.385246</td>\n",
              "      <td>73.432519</td>\n",
              "    </tr>\n",
              "    <tr>\n",
              "      <th>1</th>\n",
              "      <td>Random Forest Classifier</td>\n",
              "      <td>TF-ID</td>\n",
              "      <td>70.947368</td>\n",
              "      <td>70.669501</td>\n",
              "    </tr>\n",
              "    <tr>\n",
              "      <th>5</th>\n",
              "      <td>Bidirectional LSTM</td>\n",
              "      <td>Word Embedding</td>\n",
              "      <td>68.022440</td>\n",
              "      <td>51.540914</td>\n",
              "    </tr>\n",
              "    <tr>\n",
              "      <th>6</th>\n",
              "      <td>Pysentimiento library</td>\n",
              "      <td>Library pre-process</td>\n",
              "      <td>35.007610</td>\n",
              "      <td>54.622742</td>\n",
              "    </tr>\n",
              "  </tbody>\n",
              "</table>\n",
              "</div>\n",
              "      <button class=\"colab-df-convert\" onclick=\"convertToInteractive('df-da69453b-b377-4923-a3c6-97c517dcb07f')\"\n",
              "              title=\"Convert this dataframe to an interactive table.\"\n",
              "              style=\"display:none;\">\n",
              "        \n",
              "  <svg xmlns=\"http://www.w3.org/2000/svg\" height=\"24px\"viewBox=\"0 0 24 24\"\n",
              "       width=\"24px\">\n",
              "    <path d=\"M0 0h24v24H0V0z\" fill=\"none\"/>\n",
              "    <path d=\"M18.56 5.44l.94 2.06.94-2.06 2.06-.94-2.06-.94-.94-2.06-.94 2.06-2.06.94zm-11 1L8.5 8.5l.94-2.06 2.06-.94-2.06-.94L8.5 2.5l-.94 2.06-2.06.94zm10 10l.94 2.06.94-2.06 2.06-.94-2.06-.94-.94-2.06-.94 2.06-2.06.94z\"/><path d=\"M17.41 7.96l-1.37-1.37c-.4-.4-.92-.59-1.43-.59-.52 0-1.04.2-1.43.59L10.3 9.45l-7.72 7.72c-.78.78-.78 2.05 0 2.83L4 21.41c.39.39.9.59 1.41.59.51 0 1.02-.2 1.41-.59l7.78-7.78 2.81-2.81c.8-.78.8-2.07 0-2.86zM5.41 20L4 18.59l7.72-7.72 1.47 1.35L5.41 20z\"/>\n",
              "  </svg>\n",
              "      </button>\n",
              "      \n",
              "  <style>\n",
              "    .colab-df-container {\n",
              "      display:flex;\n",
              "      flex-wrap:wrap;\n",
              "      gap: 12px;\n",
              "    }\n",
              "\n",
              "    .colab-df-convert {\n",
              "      background-color: #E8F0FE;\n",
              "      border: none;\n",
              "      border-radius: 50%;\n",
              "      cursor: pointer;\n",
              "      display: none;\n",
              "      fill: #1967D2;\n",
              "      height: 32px;\n",
              "      padding: 0 0 0 0;\n",
              "      width: 32px;\n",
              "    }\n",
              "\n",
              "    .colab-df-convert:hover {\n",
              "      background-color: #E2EBFA;\n",
              "      box-shadow: 0px 1px 2px rgba(60, 64, 67, 0.3), 0px 1px 3px 1px rgba(60, 64, 67, 0.15);\n",
              "      fill: #174EA6;\n",
              "    }\n",
              "\n",
              "    [theme=dark] .colab-df-convert {\n",
              "      background-color: #3B4455;\n",
              "      fill: #D2E3FC;\n",
              "    }\n",
              "\n",
              "    [theme=dark] .colab-df-convert:hover {\n",
              "      background-color: #434B5C;\n",
              "      box-shadow: 0px 1px 3px 1px rgba(0, 0, 0, 0.15);\n",
              "      filter: drop-shadow(0px 1px 2px rgba(0, 0, 0, 0.3));\n",
              "      fill: #FFFFFF;\n",
              "    }\n",
              "  </style>\n",
              "\n",
              "      <script>\n",
              "        const buttonEl =\n",
              "          document.querySelector('#df-da69453b-b377-4923-a3c6-97c517dcb07f button.colab-df-convert');\n",
              "        buttonEl.style.display =\n",
              "          google.colab.kernel.accessAllowed ? 'block' : 'none';\n",
              "\n",
              "        async function convertToInteractive(key) {\n",
              "          const element = document.querySelector('#df-da69453b-b377-4923-a3c6-97c517dcb07f');\n",
              "          const dataTable =\n",
              "            await google.colab.kernel.invokeFunction('convertToInteractive',\n",
              "                                                     [key], {});\n",
              "          if (!dataTable) return;\n",
              "\n",
              "          const docLinkHtml = 'Like what you see? Visit the ' +\n",
              "            '<a target=\"_blank\" href=https://colab.research.google.com/notebooks/data_table.ipynb>data table notebook</a>'\n",
              "            + ' to learn more about interactive tables.';\n",
              "          element.innerHTML = '';\n",
              "          dataTable['output_type'] = 'display_data';\n",
              "          await google.colab.output.renderOutput(dataTable, element);\n",
              "          const docLink = document.createElement('div');\n",
              "          docLink.innerHTML = docLinkHtml;\n",
              "          element.appendChild(docLink);\n",
              "        }\n",
              "      </script>\n",
              "    </div>\n",
              "  </div>\n",
              "  "
            ],
            "text/plain": [
              "                      Model      Preprocess text   F1-score   Accuracy\n",
              "4          Bert transformer      Bert preprocess  75.862069  75.451647\n",
              "2       Logistic Regression                TF-ID  74.688797  74.070138\n",
              "3               Naive Bayes                TF-ID  74.569402  73.326249\n",
              "0    Support Vector Machine                TF-ID  74.385246  73.432519\n",
              "1  Random Forest Classifier                TF-ID  70.947368  70.669501\n",
              "5        Bidirectional LSTM       Word Embedding  68.022440  51.540914\n",
              "6     Pysentimiento library  Library pre-process  35.007610  54.622742"
            ]
          },
          "metadata": {},
          "execution_count": 143
        }
      ],
      "source": [
        "import pandas as pd\n",
        "\n",
        "df_results = pd.DataFrame({'Model':model_name, 'Preprocess text': vectors, 'F1-score':f1, 'Accuracy':accuracy})\n",
        "df_results.sort_values(by='F1-score',ascending=False)"
      ]
    }
  ],
  "metadata": {
    "colab": {
      "name": "TC_sentiment_analysis.ipynb",
      "provenance": [],
      "toc_visible": true
    },
    "kernelspec": {
      "display_name": "Python 3",
      "name": "python3"
    },
    "language_info": {
      "name": "python"
    },
    "accelerator": "GPU"
  },
  "nbformat": 4,
  "nbformat_minor": 0
}